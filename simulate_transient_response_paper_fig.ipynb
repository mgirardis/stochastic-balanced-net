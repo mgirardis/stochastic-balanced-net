{
 "cells": [
  {
   "cell_type": "code",
   "execution_count": 1,
   "metadata": {},
   "outputs": [],
   "source": [
    "# -*- coding: utf-8 -*-\n",
    "import os\n",
    "import sys\n",
    "import time\n",
    "import numpy\n",
    "import argparse\n",
    "import datetime\n",
    "import scipy.io\n",
    "import modules.ioGLNet as io\n",
    "import modules.GLNetEISimLib as GLNetEISimLib"
   ]
  },
  {
   "cell_type": "code",
   "execution_count": null,
   "metadata": {},
   "outputs": [],
   "source": [
    "!python -OO GLNetEI.py -rPoisson 0.000001000000000 -netType mf -p 1.0 -mu 0.0 -Gamma 0.2 -J 5.0 -Y 1.0 -tauT 100 -uT 0.1 -theta 1.0 -N 100000 -simType adaptthresh -tTotal 100000 -tTrans 0 -outputFile run/output_transient_fig/glexc_adaptthresh_tau100_u0.1_J5.0_r0.000001.txt -nNeuSpikingData 100000 -writeOnRun\n",
    "!python -OO GLNetEI.py -rPoisson 0.000100000000000 -netType mf -p 1.0 -mu 0.0 -Gamma 0.2 -J 5.0 -Y 1.0 -tauT 100 -uT 0.1 -theta 1.0 -N 100000 -simType adaptthresh -tTotal 100000 -tTrans 0 -outputFile run/output_transient_fig/glexc_adaptthresh_tau100_u0.1_J5.0_r0.000100.txt -nNeuSpikingData 100000 -writeOnRun\n",
    "!python -OO GLNetEI.py -rPoisson 0.112883789168469 -netType mf -p 1.0 -mu 0.0 -Gamma 0.2 -J 5.0 -Y 1.0 -tauT 100 -uT 0.1 -theta 1.0 -N 100000 -simType adaptthresh -tTotal 100000 -tTrans 0 -outputFile run/output_transient_fig/glexc_adaptthresh_tau100_u0.1_J5.0_r0.112883.txt -nNeuSpikingData 100000 -writeOnRun\n",
    "!python -OO GLNetEI.py -rPoisson 0.233572146909012 -netType mf -p 1.0 -mu 0.0 -Gamma 0.2 -J 5.0 -Y 1.0 -tauT 100 -uT 0.1 -theta 1.0 -N 100000 -simType adaptthresh -tTotal 100000 -tTrans 0 -outputFile run/output_transient_fig/glexc_adaptthresh_tau100_u0.1_J5.0_r0.233572.txt -nNeuSpikingData 100000 -writeOnRun\n",
    "!python -OO GLNetEI.py -rPoisson 0.350000000000000 -netType mf -p 1.0 -mu 0.0 -Gamma 0.2 -J 5.0 -Y 1.0 -tauT 100 -uT 0.1 -theta 1.0 -N 100000 -simType adaptthresh -tTotal 100000 -tTrans 0 -outputFile run/output_transient_fig/glexc_adaptthresh_tau100_u0.1_J5.0_r0.350000.txt -nNeuSpikingData 100000 -writeOnRun\n",
    "!python -OO GLNetEI.py -rPoisson 0.483293023857175 -netType mf -p 1.0 -mu 0.0 -Gamma 0.2 -J 5.0 -Y 1.0 -tauT 100 -uT 0.1 -theta 1.0 -N 100000 -simType adaptthresh -tTotal 100000 -tTrans 0 -outputFile run/output_transient_fig/glexc_adaptthresh_tau100_u0.1_J5.0_r0.483293.txt -nNeuSpikingData 100000 -writeOnRun"
   ]
  }
 ],
 "metadata": {
  "kernelspec": {
   "display_name": "Python 3",
   "language": "python",
   "name": "python3"
  },
  "language_info": {
   "codemirror_mode": {
    "name": "ipython",
    "version": 3
   },
   "file_extension": ".py",
   "mimetype": "text/x-python",
   "name": "python",
   "nbconvert_exporter": "python",
   "pygments_lexer": "ipython3",
   "version": "3.8.2"
  }
 },
 "nbformat": 4,
 "nbformat_minor": 2
}
