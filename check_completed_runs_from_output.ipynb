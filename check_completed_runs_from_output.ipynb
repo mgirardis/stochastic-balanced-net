{
 "cells": [
  {
   "cell_type": "code",
   "execution_count": 8,
   "metadata": {},
   "outputs": [
    {
     "name": "stdout",
     "output_type": "stream",
     "text": [
      "['glexc_pt_poisson_soqc_G0.2_J4.8_Y1_N100000_tau20_u0.1_addnoise'\n",
      " 'glexc_pt_poisson_soqc_G0.2_J4.8_Y1_N100000_tau20_u0.1_hirate_addnoise'\n",
      " 'glexc_pt_poisson_soqc_G0.2_J4.8_Y1_N100000_tau50_u0.1_addnoise'\n",
      " 'glexc_pt_poisson_soqc_G0.2_J4.8_Y1_N100000_tau50_u0.1_hirate_addnoise'\n",
      " 'glexc_pt_poisson_soqc_G0.2_J4.9_Y1_N100000_tau20_u0.1_addnoise'\n",
      " 'glexc_pt_poisson_soqc_G0.2_J4.9_Y1_N100000_tau20_u0.1_hirate_addnoise'\n",
      " 'glexc_pt_poisson_soqc_G0.2_J4.9_Y1_N100000_tau50_u0.1_addnoise'\n",
      " 'glexc_pt_poisson_soqc_G0.2_J4.9_Y1_N100000_tau50_u0.1_hirate_addnoise'\n",
      " 'glexc_pt_poisson_soqc_G0.2_J5.0_Y1_N100000_tau20_u0.1_addnoise'\n",
      " 'glexc_pt_poisson_soqc_G0.2_J5.0_Y1_N100000_tau20_u0.1_hirate_addnoise'\n",
      " 'glexc_pt_poisson_soqc_G0.2_J5.0_Y1_N100000_tau50_u0.1_addnoise'\n",
      " 'glexc_pt_poisson_soqc_G0.2_J5.0_Y1_N100000_tau50_u0.1_hirate_addnoise'\n",
      " 'glexc_pt_poisson_soqc_G0.2_J5.1_Y1_N100000_tau20_u0.1_addnoise'\n",
      " 'glexc_pt_poisson_soqc_G0.2_J5.1_Y1_N100000_tau20_u0.1_hirate_addnoise'\n",
      " 'glexc_pt_poisson_soqc_G0.2_J5.1_Y1_N100000_tau50_u0.1_hirate_addnoise'\n",
      " 'glexc_pt_poisson_soqc_G0.2_J5.2_Y1_N100000_tau20_u0.1_addnoise'\n",
      " 'glexc_pt_poisson_soqc_G0.2_J5.2_Y1_N100000_tau20_u0.1_hirate_addnoise'\n",
      " 'glexc_pt_poisson_soqc_G0.2_J5.2_Y1_N100000_tau50_u0.1_hirate_addnoise'\n",
      " 'glexc_soqc_G0.2_J4.8_Y1_N100000_tau100_u0.1_addnoise'\n",
      " 'glexc_soqc_G0.2_J4.8_Y1_N100000_tau20_u0.1_addnoise'\n",
      " 'glexc_soqc_G0.2_J4.8_Y1_N100000_tau50_u0.1_addnoise'\n",
      " 'glexc_soqc_G0.2_J4.9_Y1_N100000_tau100_u0.1_addnoise'\n",
      " 'glexc_soqc_G0.2_J4.9_Y1_N100000_tau20_u0.1_addnoise'\n",
      " 'glexc_soqc_G0.2_J4.9_Y1_N100000_tau50_u0.1_addnoise'\n",
      " 'glexc_soqc_G0.2_J5.0_Y1_N100000_tau100_u0.1_addnoise'\n",
      " 'glexc_soqc_G0.2_J5.0_Y1_N100000_tau20_u0.1_addnoise'\n",
      " 'glexc_soqc_G0.2_J5.0_Y1_N100000_tau50_u0.1_addnoise'\n",
      " 'glexc_soqc_G0.2_J5.1_Y1_N100000_tau100_u0.1_addnoise'\n",
      " 'glexc_soqc_G0.2_J5.1_Y1_N100000_tau20_u0.1_addnoise'\n",
      " 'glexc_soqc_G0.2_J5.1_Y1_N100000_tau50_u0.1_addnoise'\n",
      " 'glexc_soqc_G0.2_J5.2_Y1_N100000_tau100_u0.1_addnoise'\n",
      " 'glexc_soqc_G0.2_J5.2_Y1_N100000_tau20_u0.1_addnoise'\n",
      " 'glexc_soqc_G0.2_J5.2_Y1_N100000_tau50_u0.1_addnoise']\n"
     ]
    }
   ],
   "source": [
    "import os\n",
    "import re\n",
    "import sys\n",
    "import glob\n",
    "import numpy\n",
    "\n",
    "def get_simulation_lines(lines_file):\n",
    "    print(' *** reading file ... ', lines_file)\n",
    "    fid   = open(lines_file,'r')\n",
    "    lines = fid.readlines()\n",
    "    fid.close()\n",
    "    return numpy.array(lines,dtype=str)\n",
    "\n",
    "def select_outputFile_param(line):\n",
    "    if (type(line) is numpy.ndarray) or (type(line) is list):\n",
    "        return numpy.array([select_outputFile_param(l) for l in line],dtype=str)\n",
    "    return os.path.splitext(os.path.split(line.split('-outputFile')[1].strip().split(' ')[0])[1])[0]\n",
    "\n",
    "def write_file(fname,lines):\n",
    "    fid = open(fname,'w')\n",
    "    fid.writelines(lines)\n",
    "    fid.close()\n",
    "    print(' *** file written ... ', fname)\n",
    "\n",
    "\n",
    "\n",
    "\n",
    "\n",
    "\n",
    "output_files   = 'run/output/*.mat'\n",
    "\n",
    "outf_completed = numpy.array([ os.path.splitext(os.path.split(o)[1])[0] for o in glob.glob(output_files)],dtype=str)\n",
    "\n",
    "print(outf_completed)"
   ]
  },
  {
   "cell_type": "code",
   "execution_count": 19,
   "metadata": {},
   "outputs": [
    {
     "name": "stdout",
     "output_type": "stream",
     "text": [
      " *** reading file ...  run/lines_to_run_glexc_adaptthresh_LINEAR.txt\n",
      " *** file written ...  run/lines_to_run_glexc_adaptthresh_LINEAR_MISSING.txt\n",
      " *** moving ...  run/lines_to_run_glexc_adaptthresh_LINEAR.txt  ... to ...  run/lines_to_run_glexc_adaptthresh_LINEAR_COMPLETE.txt\n"
     ]
    }
   ],
   "source": [
    "lines_to_run_filename = 'run/lines_to_run_glexc_adaptthresh_LINEAR.txt'\n",
    "lines                 = get_simulation_lines(lines_to_run_filename)\n",
    "outf_all              = select_outputFile_param(lines)\n",
    "\n",
    "ind_completed_runs = numpy.where( numpy.isin(outf_all, outf_completed))[0]\n",
    "ind_missing_runs   = numpy.where(~numpy.isin(outf_all, outf_completed))[0]\n",
    "lines_missing      = numpy.delete(lines,ind_completed_runs)\n",
    "\n",
    "if ind_completed_runs.size > 0:\n",
    "    write_file(lines_to_run_filename.replace('.txt','_MISSING.txt'),sorted(lines_missing, key=lambda l: l[0]))\n",
    "    fname    = lines_to_run_filename.replace('.txt','_COMPLETE.txt')\n",
    "    print(' *** moving ... ', lines_to_run_filename, ' ... to ... ', fname)\n",
    "    !mv {lines_to_run_filename} {fname}\n",
    "else:\n",
    "    print(' *** no completed runs detected')"
   ]
  },
  {
   "cell_type": "code",
   "execution_count": 20,
   "metadata": {},
   "outputs": [
    {
     "name": "stdout",
     "output_type": "stream",
     "text": [
      " *** reading file ...  run/lines_to_run_adaptthresh_LINEAR_aval_poi.txt\n",
      " *** no completed runs detected\n"
     ]
    }
   ],
   "source": [
    "lines_to_run_filename = 'run/lines_to_run_adaptthresh_LINEAR_aval_poi.txt'\n",
    "lines                 = get_simulation_lines(lines_to_run_filename)\n",
    "outf_all              = select_outputFile_param(lines)\n",
    "\n",
    "ind_completed_runs = numpy.where( numpy.isin(outf_all, outf_completed))[0]\n",
    "ind_missing_runs   = numpy.where(~numpy.isin(outf_all, outf_completed))[0]\n",
    "lines_missing      = numpy.delete(lines,ind_completed_runs)\n",
    "\n",
    "if ind_completed_runs.size > 0:\n",
    "    write_file(lines_to_run_filename.replace('.txt','_MISSING.txt'),sorted(lines_missing, key=lambda l: l[0]))\n",
    "    fname    = lines_to_run_filename.replace('.txt','_COMPLETE.txt')\n",
    "    print(' *** moving ... ', lines_to_run_filename, ' ... to ... ', fname)\n",
    "    !mv {lines_to_run_filename} {fname}\n",
    "else:\n",
    "    print(' *** no completed runs detected')"
   ]
  },
  {
   "cell_type": "code",
   "execution_count": 21,
   "metadata": {},
   "outputs": [
    {
     "name": "stdout",
     "output_type": "stream",
     "text": [
      " *** reading file ...  run/lines_to_run_glexc_adaptthresh_SATURATE.txt\n",
      " *** no completed runs detected\n"
     ]
    }
   ],
   "source": [
    "lines_to_run_filename = 'run/lines_to_run_glexc_adaptthresh_SATURATE.txt'\n",
    "lines                 = get_simulation_lines(lines_to_run_filename)\n",
    "outf_all              = select_outputFile_param(lines)\n",
    "\n",
    "ind_completed_runs = numpy.where( numpy.isin(outf_all, outf_completed))[0]\n",
    "ind_missing_runs   = numpy.where(~numpy.isin(outf_all, outf_completed))[0]\n",
    "lines_missing      = numpy.delete(lines,ind_completed_runs)\n",
    "\n",
    "if ind_completed_runs.size > 0:\n",
    "    write_file(lines_to_run_filename.replace('.txt','_MISSING.txt'),sorted(lines_missing, key=lambda l: l[0]))\n",
    "    fname    = lines_to_run_filename.replace('.txt','_COMPLETE.txt')\n",
    "    print(' *** moving ... ', lines_to_run_filename, ' ... to ... ', fname)\n",
    "    !mv {lines_to_run_filename} {fname}\n",
    "else:\n",
    "    print(' *** no completed runs detected')"
   ]
  },
  {
   "cell_type": "code",
   "execution_count": 22,
   "metadata": {},
   "outputs": [
    {
     "name": "stdout",
     "output_type": "stream",
     "text": [
      " *** reading file ...  run/lines_to_run_adaptthresh_SATURATE_aval_poi.txt\n",
      " *** no completed runs detected\n"
     ]
    }
   ],
   "source": [
    "lines_to_run_filename = 'run/lines_to_run_adaptthresh_SATURATE_aval_poi.txt'\n",
    "lines                 = get_simulation_lines(lines_to_run_filename)\n",
    "outf_all              = select_outputFile_param(lines)\n",
    "\n",
    "ind_completed_runs = numpy.where( numpy.isin(outf_all, outf_completed))[0]\n",
    "ind_missing_runs   = numpy.where(~numpy.isin(outf_all, outf_completed))[0]\n",
    "lines_missing      = numpy.delete(lines,ind_completed_runs)\n",
    "\n",
    "if ind_completed_runs.size > 0:\n",
    "    write_file(lines_to_run_filename.replace('.txt','_MISSING.txt'),sorted(lines_missing, key=lambda l: l[0]))\n",
    "    fname    = lines_to_run_filename.replace('.txt','_COMPLETE.txt')\n",
    "    print(' *** moving ... ', lines_to_run_filename, ' ... to ... ', fname)\n",
    "    !mv {lines_to_run_filename} {fname}\n",
    "else:\n",
    "    print(' *** no completed runs detected')"
   ]
  }
 ],
 "metadata": {
  "kernelspec": {
   "display_name": "Python 3",
   "language": "python",
   "name": "python3"
  },
  "language_info": {
   "codemirror_mode": {
    "name": "ipython",
    "version": 3
   },
   "file_extension": ".py",
   "mimetype": "text/x-python",
   "name": "python",
   "nbconvert_exporter": "python",
   "pygments_lexer": "ipython3",
   "version": "3.8.2"
  }
 },
 "nbformat": 4,
 "nbformat_minor": 2
}
